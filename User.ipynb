{
 "cells": [
  {
   "cell_type": "code",
   "execution_count": 1,
   "metadata": {},
   "outputs": [],
   "source": [
    "# -*- coding: utf-8 -*-\n",
    "\n",
    "from Catalog import Catalog\n",
    "\n",
    "class User:\n",
    "    catalog = Catalog()\n",
    "    def __init__(self, name, location, age, aadhar_id):\n",
    "        self.name = name\n",
    "        self.location = location\n",
    "        self.age = age\n",
    "        self.aadhar_id = aadhar_id\n",
    "        \n",
    "\n",
    "class Member(User):\n",
    "    def __init__(self,name, location, age, aadhar_id,student_id):\n",
    "        super().__init__(name, location, age, aadhar_id)\n",
    "        self.student_id = student_id\n",
    "        self.book_issued = \"\"\n",
    "        self.bookitem = None\n",
    "        \n",
    "    def __repr__(self):\n",
    "        return self.name + ' ' + self.location + ' ' + self.student_id\n",
    "    \n",
    "    #assume name is unique\n",
    "    def issueBook(self,name,days=10):\n",
    "        b = User.catalog.searchByName(name)\n",
    "        if b:\n",
    "            if b.total_count > 0:\n",
    "                bookitem = b.book_item[-1]\n",
    "                User.catalog.removeBookItem(name, bookitem.rack)\n",
    "                self.book_issued = name\n",
    "                self.bookitem = bookitem\n",
    "\n",
    "    \n",
    "    #assume name is unique\n",
    "    def returnBook(self,name):\n",
    "        if self.book_issued:\n",
    "            b = User.catalog.searchByName(name)\n",
    "            User.catalog.addBookItem(b, self.bookitem.rack)\n",
    "            self.book_issued = \"\"\n",
    "            self.bookitem = None\n",
    "        else:\n",
    "            print(\"No book issued by this member\")     \n",
    "        \n",
    "class Librarian(User):\n",
    "    def __init__(self,name, location, age, aadhar_id,emp_id):\n",
    "        super().__init__(name, location, age, aadhar_id)\n",
    "        self.emp_id = emp_id\n",
    "        \n",
    "    def __repr__(self):\n",
    "        return self.name + ' ' + self.location + ' ' + self.emp_id\n",
    "    \n",
    "    def addBook(self, name,author,isbn,publish_date,pages):\n",
    "        return User.catalog.addBook(name, author, isbn, publish_date, pages)\n",
    "        \n",
    "    def addBookItem(self, book, rack):\n",
    "        User.catalog.addBookItem(book, rack)\n",
    "    \n",
    "    def removeBook(self,name):\n",
    "        b = User.catalog.searchByName(name)\n",
    "        if b:\n",
    "            User.catalog.books.remove(b)\n",
    "            User.catalog.different_book_count -= 1\n",
    "    \n",
    "    def removeBookItemFromCatalog(self,catalog,book,rack):\n",
    "        User.catalog.removeBookItem(book, rack)\n",
    "        "
   ]
  },
  {
   "cell_type": "code",
   "execution_count": 2,
   "metadata": {},
   "outputs": [],
   "source": [
    "librarian = Librarian(\"Awantik\",\"Bangalore\",34,'asljlkj22','zeke101') "
   ]
  },
  {
   "cell_type": "code",
   "execution_count": 3,
   "metadata": {},
   "outputs": [
    {
     "data": {
      "text/plain": [
       "'Awantik Bangalore zeke101'"
      ]
     },
     "execution_count": 3,
     "metadata": {},
     "output_type": "execute_result"
    }
   ],
   "source": [
    "librarian.__repr__()"
   ]
  },
  {
   "cell_type": "code",
   "execution_count": 4,
   "metadata": {},
   "outputs": [],
   "source": [
    "m1 = Member(\"Vish\",\"Bangalore\",23,'asljlkj22','std1233')"
   ]
  },
  {
   "cell_type": "code",
   "execution_count": 5,
   "metadata": {},
   "outputs": [
    {
     "data": {
      "text/plain": [
       "'Vish Bangalore std1233'"
      ]
     },
     "execution_count": 5,
     "metadata": {},
     "output_type": "execute_result"
    }
   ],
   "source": [
    "m1.__repr__()"
   ]
  },
  {
   "cell_type": "code",
   "execution_count": 6,
   "metadata": {},
   "outputs": [],
   "source": [
    "b = librarian.addBook('Shoe Dog','Phil Knight', '123hg', '2015', 312)"
   ]
  },
  {
   "cell_type": "code",
   "execution_count": 7,
   "metadata": {},
   "outputs": [],
   "source": [
    "librarian.addBookItem(b, 'H1B2')\n",
    "librarian.addBookItem(b, 'H1B4')\n",
    "librarian.addBookItem(b, 'H1B5')"
   ]
  },
  {
   "cell_type": "code",
   "execution_count": 8,
   "metadata": {},
   "outputs": [
    {
     "name": "stdout",
     "output_type": "stream",
     "text": [
      "[Shoe Dog Phil Knight]\n"
     ]
    }
   ],
   "source": [
    "print(User.catalog.books)"
   ]
  },
  {
   "cell_type": "code",
   "execution_count": 9,
   "metadata": {},
   "outputs": [],
   "source": [
    "b = librarian.addBook('Moonwalking with Einstien','J Foer', '124ac', '2017',318)\n",
    "librarian.addBookItem(b, 'K1B2')"
   ]
  },
  {
   "cell_type": "code",
   "execution_count": 10,
   "metadata": {},
   "outputs": [
    {
     "name": "stdout",
     "output_type": "stream",
     "text": [
      "[Shoe Dog Phil Knight, Moonwalking with Einstien J Foer]\n"
     ]
    }
   ],
   "source": [
    "print(User.catalog.books)"
   ]
  },
  {
   "cell_type": "code",
   "execution_count": 11,
   "metadata": {},
   "outputs": [],
   "source": [
    "m1 = Member(\"Vish\",\"Bangalore\",23,'asljlkj22','std1233')"
   ]
  },
  {
   "cell_type": "code",
   "execution_count": 12,
   "metadata": {},
   "outputs": [
    {
     "name": "stdout",
     "output_type": "stream",
     "text": [
      "Shoe Dog Phil Knight\n"
     ]
    }
   ],
   "source": [
    "b = User.catalog.searchByName('Shoe Dog')\n",
    "print (b)"
   ]
  },
  {
   "cell_type": "code",
   "execution_count": 13,
   "metadata": {},
   "outputs": [
    {
     "name": "stdout",
     "output_type": "stream",
     "text": [
      "Different Book Count 2\n",
      "Shoe Dog Phil Knight\n",
      "H1B4\n",
      "H1B5\n",
      "Moonwalking with Einstien J Foer\n",
      "K1B2\n",
      "Total Book Count 3\n"
     ]
    }
   ],
   "source": [
    "librarian.removeBookItemFromCatalog(User.catalog, 'Shoe Dog','H1B2')\n",
    "User.catalog.displayAllBooks()"
   ]
  },
  {
   "cell_type": "code",
   "execution_count": 14,
   "metadata": {},
   "outputs": [],
   "source": [
    "m1.issueBook('Shoe Dog')"
   ]
  },
  {
   "cell_type": "code",
   "execution_count": 15,
   "metadata": {},
   "outputs": [
    {
     "name": "stdout",
     "output_type": "stream",
     "text": [
      "Different Book Count 2\n",
      "Shoe Dog Phil Knight\n",
      "H1B4\n",
      "Moonwalking with Einstien J Foer\n",
      "K1B2\n",
      "Total Book Count 2\n"
     ]
    }
   ],
   "source": [
    "User.catalog.displayAllBooks()"
   ]
  },
  {
   "cell_type": "code",
   "execution_count": 16,
   "metadata": {},
   "outputs": [],
   "source": [
    "m1.returnBook('Shoe Dog')"
   ]
  },
  {
   "cell_type": "code",
   "execution_count": 17,
   "metadata": {},
   "outputs": [
    {
     "name": "stdout",
     "output_type": "stream",
     "text": [
      "Different Book Count 2\n",
      "Shoe Dog Phil Knight\n",
      "H1B4\n",
      "H1B5\n",
      "Moonwalking with Einstien J Foer\n",
      "K1B2\n",
      "Total Book Count 3\n"
     ]
    }
   ],
   "source": [
    "User.catalog.displayAllBooks()"
   ]
  },
  {
   "cell_type": "code",
   "execution_count": 18,
   "metadata": {},
   "outputs": [],
   "source": [
    "librarian.removeBook(\"Moonwalking with Einstien\")"
   ]
  },
  {
   "cell_type": "code",
   "execution_count": 19,
   "metadata": {},
   "outputs": [
    {
     "name": "stdout",
     "output_type": "stream",
     "text": [
      "Different Book Count 1\n",
      "Shoe Dog Phil Knight\n",
      "H1B4\n",
      "H1B5\n",
      "Total Book Count 2\n"
     ]
    }
   ],
   "source": [
    "User.catalog.displayAllBooks()"
   ]
  },
  {
   "cell_type": "code",
   "execution_count": null,
   "metadata": {},
   "outputs": [],
   "source": []
  }
 ],
 "metadata": {
  "kernelspec": {
   "display_name": "Python 3",
   "language": "python",
   "name": "python3"
  },
  "language_info": {
   "codemirror_mode": {
    "name": "ipython",
    "version": 3
   },
   "file_extension": ".py",
   "mimetype": "text/x-python",
   "name": "python",
   "nbconvert_exporter": "python",
   "pygments_lexer": "ipython3",
   "version": "3.7.2"
  }
 },
 "nbformat": 4,
 "nbformat_minor": 2
}
